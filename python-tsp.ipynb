{
 "cells": [
  {
   "cell_type": "markdown",
   "metadata": {},
   "source": [
    "# Actividad 3\n",
    "\n",
    "\n",
    "|                Alumno                 | Matrícula |\n",
    "| :-----------------------------------: | :-------: |\n",
    "|    Juan Pablo Echeagaray González     | A00830646 |\n",
    "| Verónica Victoria García De la Fuente | A00830383 |\n",
    "|       Emily Rebeca Méndez Cruz        | A00830768 |\n",
    "|        Erika Martínez Meneses         | A01028621 |\n",
    "\n",
    "- Diseño de algoritmos matemáticos bio-inspirados\n",
    "- Dra. Yadira Isabel Silva Soto\n",
    "- 15 de octubre del 2022"
   ]
  },
  {
   "cell_type": "markdown",
   "metadata": {},
   "source": [
    "## Dependencias"
   ]
  },
  {
   "cell_type": "code",
   "execution_count": null,
   "metadata": {},
   "outputs": [],
   "source": [
    "# Basic dependencies\n",
    "import numpy as np\n",
    "import pandas as pd\n",
    "import scipy as sp\n",
    "import matplotlib.pyplot as plt\n",
    "import seaborn as sns\n",
    "\n",
    "# Optimization libraries\n",
    "from ortools.sat.python import cp_model\n",
    "import pants\n",
    "\n",
    "# Geocoding libraries\n",
    "from geopy.geocoders import Bing\n",
    "from geopy.extra.rate_limiter import RateLimiter\n",
    "from geopy.distance import geodesic\n",
    "from scipy.spatial.distance import cdist\n",
    "import folium as fl\n",
    "\n",
    "# Code typing and hinting\n",
    "from typing import List, Tuple\n"
   ]
  },
  {
   "cell_type": "markdown",
   "metadata": {},
   "source": [
    "## Lectura de `API` key de `Microsoft Bing Maps`"
   ]
  },
  {
   "cell_type": "code",
   "execution_count": null,
   "metadata": {},
   "outputs": [],
   "source": [
    "def get_key(file_path):\n",
    "    with open('key.txt') as f:\n",
    "        key = f.read().strip()\n",
    "\n",
    "    return key"
   ]
  },
  {
   "cell_type": "markdown",
   "metadata": {},
   "source": [
    "## Lectura de datos"
   ]
  },
  {
   "cell_type": "code",
   "execution_count": null,
   "metadata": {},
   "outputs": [],
   "source": [
    "df = pd.read_csv('data/addresses.csv')\n",
    "df.drop(columns=['ID'], inplace=True)\n",
    "df.head()"
   ]
  },
  {
   "cell_type": "markdown",
   "metadata": {},
   "source": [
    "## Procesamiento de coordenadas"
   ]
  },
  {
   "cell_type": "code",
   "execution_count": null,
   "metadata": {},
   "outputs": [],
   "source": [
    "def get_coords(address_file_path: str):\n",
    "    \n",
    "    # Needs a function that handles errors\n",
    "    test_data = pd.read_csv(address_file_path)\n",
    "    locator = Bing(api_key=get_key('key.txt'), user_agent='Python TSP', timeout=10)\n",
    "\n",
    "    # Create a RateLimiter object to limit requests to the API.\n",
    "    geocode = RateLimiter(locator.geocode, min_delay_seconds=1)\n",
    "\n",
    "    test_data['locations'] = test_data['Domicilio'].apply(geocode)\n",
    "    print(f'Found {(1 - test_data.locations.isnull().sum() / len(test_data))*100:.4f} % of the addresses')\n",
    "\n",
    "    test_data['point'] = test_data['locations'].apply(lambda loc: tuple(loc.point) if loc else None)\n",
    "    # Drop rows with missing locations\n",
    "    test_data = test_data[test_data.locations.notnull()]\n",
    "    test_data[['latitude', 'longitude', 'altitude']] = pd.DataFrame(test_data['point'].tolist(), index=test_data.index)\n",
    "\n",
    "    test_data.to_csv('data/address-with-coords.csv', index=False)\n",
    "    print(f'Processed {len(test_data)} addresses')\n"
   ]
  },
  {
   "cell_type": "markdown",
   "metadata": {},
   "source": [
    "## Cálculo de matriz de distancias"
   ]
  },
  {
   "cell_type": "code",
   "execution_count": null,
   "metadata": {},
   "outputs": [],
   "source": [
    "def calculate_distance_matrix(address_coords_file_path: str):\n",
    "    df = pd.read_csv(address_coords_file_path)\n",
    "    df = df[['latitude', 'longitude']]\n",
    "    df = df.to_numpy()\n",
    "    distance_matrix = cdist(df, df, lambda u, v: geodesic(u, v).km)\n",
    "    np.save('data/distance_matrix.npy', distance_matrix)"
   ]
  },
  {
   "cell_type": "code",
   "execution_count": null,
   "metadata": {},
   "outputs": [],
   "source": [
    "get_coords('data/addresses.csv')"
   ]
  },
  {
   "cell_type": "code",
   "execution_count": null,
   "metadata": {},
   "outputs": [],
   "source": [
    "calculate_distance_matrix('data/address-with-coords.csv')"
   ]
  },
  {
   "cell_type": "code",
   "execution_count": null,
   "metadata": {},
   "outputs": [],
   "source": [
    "distance_matrix = np.load('data/distance_matrix.npy')"
   ]
  },
  {
   "cell_type": "markdown",
   "metadata": {},
   "source": [
    "## Solución exacta con `solver`"
   ]
  },
  {
   "cell_type": "code",
   "execution_count": null,
   "metadata": {},
   "outputs": [],
   "source": [
    "def solver(distance_matrix: np.array, print_output: bool = False) -> Tuple[List[int], float]:\n",
    "\n",
    "    DISTANCE_MATRIX = distance_matrix.tolist()\n",
    "    num_nodes = len(DISTANCE_MATRIX)\n",
    "    all_nodes = range(num_nodes)\n",
    "\n",
    "    # Model creation\n",
    "    model = cp_model.CpModel()\n",
    "    \n",
    "    # Decision variables\n",
    "    obj_vars = []\n",
    "    obj_coeffs = []\n",
    "\n",
    "    # Circuit constraint\n",
    "    arcs = []\n",
    "    arc_literals = {}\n",
    "    for i in all_nodes:\n",
    "        for j in all_nodes:\n",
    "            if i == j:\n",
    "                continue\n",
    "            lit = model.NewBoolVar(f'x_{i}_{j}')\n",
    "            arcs.append((i, j, lit))\n",
    "            arc_literals[(i, j)] = lit\n",
    "\n",
    "            obj_vars.append(lit)\n",
    "            obj_coeffs.append(DISTANCE_MATRIX[i][j])\n",
    "    \n",
    "    # Circuit Constraints\n",
    "    model.AddCircuit(arcs)\n",
    "\n",
    "    # Objective\n",
    "    model.Minimize(sum([obj_vars[i] * obj_coeffs[i] for i in range(len(obj_vars))]))\n",
    "\n",
    "    # Solver\n",
    "    solver = cp_model.CpSolver()\n",
    "    solver.parameters.log_search_progress = False\n",
    "    # To benefit from the linearization of the circuit constraint. ?\n",
    "    solver.parameters.linearization_level = 2\n",
    "\n",
    "    solver.Solve(model)\n",
    "    solution = [0]\n",
    "\n",
    "    current_node = 0\n",
    "    str_route = f'{current_node} -> '\n",
    "    route_is_finished = False\n",
    "    route_distance = 0\n",
    "    while not route_is_finished:\n",
    "        for i in all_nodes:\n",
    "            if i == current_node:\n",
    "                continue\n",
    "            if solver.BooleanValue(arc_literals[current_node, i]):\n",
    "                str_route += f' -> {i}'\n",
    "                route_distance += DISTANCE_MATRIX[current_node][i]\n",
    "                current_node = i\n",
    "                solution.append(current_node)\n",
    "                if current_node == 0:\n",
    "                    route_is_finished = True\n",
    "                break\n",
    "    if print_output:\n",
    "        print(f'Number of nodes: {num_nodes}')\n",
    "        print(solver.ResponseStats())\n",
    "        print('Route:', str_route)\n",
    "        print('Travelled distance:', route_distance)\n",
    "\n",
    "    return solution, route_distance\n"
   ]
  },
  {
   "cell_type": "code",
   "execution_count": null,
   "metadata": {},
   "outputs": [],
   "source": [
    "%%timeit -n 10 -r 10\n",
    "solver(distance_matrix)"
   ]
  },
  {
   "cell_type": "markdown",
   "metadata": {},
   "source": [
    "## Algoritmo genético"
   ]
  },
  {
   "cell_type": "code",
   "execution_count": null,
   "metadata": {},
   "outputs": [],
   "source": [
    "class genetic_algorithm:\n",
    "\n",
    "    def __init__(self, population_size: int, num_generations: int, mutation_rate: float):\n",
    "        self.population_size = population_size\n",
    "        self.population = []\n",
    "        self.num_generations = num_generations\n",
    "        self.mutation_rate = mutation_rate\n",
    "        self.solution = None\n",
    "\n",
    "\n",
    "    def generate_population(self):\n",
    "        raise NotImplementedError\n",
    "\n",
    "    def fitness(self):\n",
    "        raise NotImplementedError\n",
    "\n",
    "    def crossover(self, parent1, parent2):\n",
    "        raise NotImplementedError\n",
    "\n",
    "    def mutation(self, individual):\n",
    "        raise NotImplementedError\n",
    "\n",
    "    def selection(self):\n",
    "        evaluation = np.array(self.fitness())\n",
    "        reproduction_prob = evaluation / evaluation.sum()\n",
    "        chosen = np.random.choice(len(self.population), p=reproduction_prob)\n",
    "\n",
    "        return self.population[chosen]\n",
    "\n",
    "    def run(self):\n",
    "        evaluation = self.fitness()\n",
    "\n",
    "        # Initial Best solution, best individual\n",
    "        best_idx = np.argmax(evaluation)\n",
    "        best_individual = self.population[best_idx]\n",
    "        best_solution = evaluation[best_idx]\n",
    "\n",
    "        best_solutions = []\n",
    "        best_solutions.append((best_individual, best_solution))\n",
    "\n",
    "        for generation in range(self.num_generations):\n",
    "            new_population = []\n",
    "            \n",
    "            for i in range(self.population_size):\n",
    "                parent_x = self.selection()\n",
    "                parent_y = self.selection()\n",
    "                offspring = self.crossover(parent_x, parent_y)\n",
    "\n",
    "                if np.random.random() <= self.mutation_rate:\n",
    "                    offspring = self.mutation(offspring)\n",
    "\n",
    "                new_population.append(offspring)\n",
    "\n",
    "            self.population = np.array(new_population)\n",
    "            evaluation = self.fitness()\n",
    "            best_idx = np.argmax(evaluation)\n",
    "            best_individual = self.population[best_idx]\n",
    "            best_solution = evaluation[best_idx]\n",
    "\n",
    "            best_solutions.append((best_individual, best_solution))\n",
    "        \n",
    "        # Find the individual amongst the history record of best solutions\n",
    "        best_solutions = np.array(best_solutions, dtype=object)\n",
    "        best_found = np.argmax(best_solutions[:,1])\n",
    "\n",
    "        optimal = best_solutions[best_found]\n",
    "\n",
    "        self.solution = optimal\n",
    "\n",
    "    def calculate_score(self):\n",
    "        raise NotImplementedError"
   ]
  },
  {
   "cell_type": "code",
   "execution_count": null,
   "metadata": {},
   "outputs": [],
   "source": [
    "class genetic_tsp(genetic_algorithm):\n",
    "\n",
    "    def __init__(self, population_size: int, num_generations: int, mutation_rate: float, distance_matrix: np.array):\n",
    "        super().__init__(population_size, num_generations, mutation_rate)\n",
    "        self.distance_matrix = distance_matrix.tolist()\n",
    "        self.num_nodes = len(self.distance_matrix)\n",
    "        self.generate_population()\n",
    "\n",
    "    def generate_population(self):\n",
    "        population = []\n",
    "        start = 0\n",
    "        \n",
    "        for i in range(self.population_size):\n",
    "            individual = np.random.permutation(range(1, self.num_nodes))\n",
    "            individual = np.hstack((start, individual))\n",
    "            individual = np.hstack((individual, start))\n",
    "            population.append(individual)\n",
    "\n",
    "        self.population = population\n",
    "\n",
    "    def fitness(self):\n",
    "        fitness = []\n",
    "        for individual in self.population:\n",
    "            distance = 0\n",
    "            for i in range(len(individual) - 1):\n",
    "                distance += self.distance_matrix[individual[i]][individual[i+1]]\n",
    "            fitness.append(1 / distance)\n",
    "        return fitness\n",
    "\n",
    "    def crossover(self, parent1, parent2):\n",
    "\n",
    "        # Remove the start and end cities\n",
    "        parent1 = np.delete(parent1, 0)\n",
    "        parent1 = np.delete(parent1, -1)\n",
    "        parent2 = np.delete(parent2, 0)\n",
    "        parent2 = np.delete(parent2, -1)\n",
    "        \n",
    "        child = [None] * len(parent1)\n",
    "\n",
    "        # Choose a random allele from parent_1\n",
    "        geneA = int(np.random.random() * len(parent1))\n",
    "        geneB = int(np.random.random() * len(parent1))\n",
    "\n",
    "        start = min(geneA, geneB)\n",
    "        end = max(geneA, geneB)\n",
    "\n",
    "        child[start:end] = parent1[start:end]\n",
    "\n",
    "        mask = [i for i in parent2 if i not in child]\n",
    "\n",
    "        for i in range(len(parent1)):\n",
    "            # print(i)\n",
    "            if child[i] == None:\n",
    "                child[i] = mask.pop(0)\n",
    "\n",
    "        child = np.array(child)\n",
    "        # Add the start and end cities\n",
    "        child = np.hstack((0, child))\n",
    "        child = np.hstack((child, 0))\n",
    "\n",
    "        return child\n",
    "\n",
    "    def mutation(self, chromosome):\n",
    "\n",
    "        if np.random.random() <= self.mutation_rate:\n",
    "            # Make sure the mutation does not make the chromosome invalid\n",
    "            chromosome = np.delete(chromosome, 0)\n",
    "            chromosome = np.delete(chromosome, -1)\n",
    "\n",
    "            # Randomly swap two cities\n",
    "            i = np.random.randint(0, len(chromosome))\n",
    "            j = np.random.randint(0, len(chromosome))\n",
    "            chromosome[i], chromosome[j] = chromosome[j], chromosome[i]\n",
    "\n",
    "            # Add the start and end cities\n",
    "            chromosome = np.hstack((0, chromosome))\n",
    "            chromosome = np.hstack((chromosome, 0))\n",
    "            \n",
    "        return chromosome\n",
    "        \n",
    "\n",
    "    def optimize(self, print_output: bool = False):\n",
    "        self.run()\n",
    "        route = self.solution[0]\n",
    "        route_taken = f''\n",
    "        real_cost = 0\n",
    "        for idx, val in enumerate(route):\n",
    "            if idx + 1 < len(route):\n",
    "                real_cost += self.distance_matrix[route[idx]][route[idx + 1]]\n",
    "                route_taken += f'{val} -> '\n",
    "            else:\n",
    "                route_taken += f'{val}'\n",
    "        \n",
    "        if print_output:\n",
    "            print('Solution Found')\n",
    "            print(f'Total Cost : {real_cost}')\n",
    "            print(f'Route Taken: {route_taken}')\n",
    "\n",
    "        return route, real_cost"
   ]
  },
  {
   "cell_type": "code",
   "execution_count": null,
   "metadata": {},
   "outputs": [],
   "source": [
    "%%timeit -n 1 -r 10\n",
    "GA = genetic_tsp(population_size=100, num_generations=100, mutation_rate=0.15, distance_matrix=distance_matrix)\n",
    "GA.optimize(print_output=False)\n"
   ]
  },
  {
   "cell_type": "markdown",
   "metadata": {},
   "source": [
    "## Colonia de Hormigas"
   ]
  },
  {
   "cell_type": "code",
   "execution_count": null,
   "metadata": {},
   "outputs": [],
   "source": [
    "def ACO(print_output: bool = False):\n",
    "    coords = pd.read_csv('data/address-with-coords.csv')\n",
    "    coords = coords[['latitude', 'longitude']]\n",
    "    cities = coords.to_numpy()\n",
    "    cities = cities.tolist()\n",
    "\n",
    "    def distance_function(pointA, pointB):\n",
    "        return geodesic(pointA, pointB).km\n",
    "\n",
    "    world = pants.World(cities, distance_function)\n",
    "\n",
    "    aco_solver = pants.Solver()\n",
    "    solution = aco_solver.solve(world)\n",
    "\n",
    "    # Route taken\n",
    "    route_taken = f'{cities.index(solution.tour[0])} -> '\n",
    "    route = [cities.index(solution.tour[0])]\n",
    "    # Test if the return distance is correct\n",
    "    real_cost = 0\n",
    "    for city in range(1, len(solution.tour)):\n",
    "        real_cost += distance_function(solution.tour[city - 1], solution.tour[city])\n",
    "        route_taken += f'{cities.index(solution.tour[city])} -> '\n",
    "        route.append(cities.index(solution.tour[city]))\n",
    "\n",
    "    \n",
    "    route_taken += f'{cities.index(solution.tour[0])}'\n",
    "    real_cost += distance_function(solution.tour[-1], solution.tour[0])\n",
    "    route.append(cities.index(solution.tour[0]))\n",
    "\n",
    "    assert real_cost == solution.distance\n",
    "\n",
    "    if print_output:\n",
    "        print('Solution Found')\n",
    "        print(f'Total Cost : {solution.distance}')\n",
    "        print(f'Route Taken: {route_taken}')\n",
    "\n",
    "\n",
    "    return route, solution.distance\n",
    "    "
   ]
  },
  {
   "cell_type": "markdown",
   "metadata": {},
   "source": [
    "## Comparación de resultados"
   ]
  },
  {
   "cell_type": "code",
   "execution_count": null,
   "metadata": {},
   "outputs": [],
   "source": [
    "optimal_solution, optimal_cost = solver(distance_matrix)\n",
    "GA = genetic_tsp(population_size=100, num_generations=100, mutation_rate=0.15, distance_matrix=distance_matrix)\n",
    "ga_solution, ga_cost = GA.optimize(print_output=False)\n",
    "aco_route, aco_cost = ACO()\n"
   ]
  },
  {
   "cell_type": "code",
   "execution_count": null,
   "metadata": {},
   "outputs": [],
   "source": [
    "def plot_route(solution: list, name: str, cost: float) -> None:\n",
    "    df = pd.read_csv('data/address-with-coords.csv')\n",
    "    coordinates = df[['latitude', 'longitude']].to_numpy()\n",
    "\n",
    "    fl_coords = [[coord[0], coord[1]] for coord in coordinates]\n",
    "    names = df['Domicilio'].to_numpy().tolist()\n",
    "\n",
    "    map = fl.Map(location=[fl_coords[0][0], fl_coords[0][1]], zoom_start=12, tiles='OpenStreetMap')\n",
    "\n",
    "    for coordinate, location in zip(fl_coords, names):\n",
    "        fl.Marker(location=coordinate, popup=location).add_to(map)\n",
    "\n",
    "    route = [fl_coords[i] for i in solution]\n",
    "    fl.PolyLine(route, color='red', weight=2.5, opacity=1, tooltip=f'{name}: {cost:.4f}').add_to(map)\n",
    "\n",
    "    return map\n"
   ]
  },
  {
   "cell_type": "markdown",
   "metadata": {},
   "source": [
    "### Solución exacta"
   ]
  },
  {
   "cell_type": "code",
   "execution_count": null,
   "metadata": {},
   "outputs": [],
   "source": [
    "plot_route(optimal_solution, 'Optimal', optimal_cost)"
   ]
  },
  {
   "cell_type": "markdown",
   "metadata": {},
   "source": [
    "### Solución de algoritmo genético"
   ]
  },
  {
   "cell_type": "code",
   "execution_count": null,
   "metadata": {},
   "outputs": [],
   "source": [
    "plot_route(ga_solution, 'Genetic Algorithm', ga_cost)"
   ]
  },
  {
   "cell_type": "markdown",
   "metadata": {},
   "source": [
    "### Solución de colonia de hormigas"
   ]
  },
  {
   "cell_type": "code",
   "execution_count": null,
   "metadata": {},
   "outputs": [],
   "source": [
    "plot_route(aco_route, 'Ant Colony Optimization', aco_cost)"
   ]
  },
  {
   "cell_type": "code",
   "execution_count": null,
   "metadata": {},
   "outputs": [],
   "source": [
    "%%timeit -n 10 -r 10\n",
    "ACO()"
   ]
  },
  {
   "cell_type": "code",
   "execution_count": null,
   "metadata": {},
   "outputs": [],
   "source": []
  }
 ],
 "metadata": {
  "kernelspec": {
   "display_name": "Python 3.10.6 ('.venv': venv)",
   "language": "python",
   "name": "python3"
  },
  "language_info": {
   "codemirror_mode": {
    "name": "ipython",
    "version": 3
   },
   "file_extension": ".py",
   "mimetype": "text/x-python",
   "name": "python",
   "nbconvert_exporter": "python",
   "pygments_lexer": "ipython3",
   "version": "3.10.6"
  },
  "orig_nbformat": 4,
  "vscode": {
   "interpreter": {
    "hash": "f7cbdddcec1ceff59d3bd82b561af7e83d952467917c147d74727fd081710d7c"
   }
  }
 },
 "nbformat": 4,
 "nbformat_minor": 2
}
